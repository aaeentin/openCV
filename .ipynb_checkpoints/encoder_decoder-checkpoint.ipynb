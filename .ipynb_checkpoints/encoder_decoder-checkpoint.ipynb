{
 "cells": [
  {
   "cell_type": "code",
   "execution_count": 17,
   "metadata": {},
   "outputs": [],
   "source": [
    "import cv2\n",
    "import time\n",
    "import numpy as np\n",
    "from skimage.measure import compare_ssim"
   ]
  },
  {
   "cell_type": "markdown",
   "metadata": {},
   "source": [
    "# в обох варіантах використаємо підхід, що полягає в видаленні кожного 2 кадру. також всі важливі кадри будемо зберігати в папках decoded, original та differ\n"
   ]
  },
  {
   "cell_type": "code",
   "execution_count": 18,
   "metadata": {},
   "outputs": [],
   "source": [
    "def encode(out, cap, path):\n",
    "    i = 0\n",
    "    while (True):\n",
    "        ret, img = cap.read()\n",
    "        if (ret == 0): break\n",
    "        if (i % 2 == 0 ):\n",
    "            out.write(img)\n",
    "        else:\n",
    "            cv2.imwrite(path + f\"{int(i/2)}.png\", img)\n",
    "        i += 1\n",
    "\n",
    "    cap.release()\n",
    "    out.release()"
   ]
  },
  {
   "cell_type": "code",
   "execution_count": 19,
   "metadata": {},
   "outputs": [],
   "source": [
    "fourcc = cv2.VideoWriter_fourcc(*'XVID')\n",
    "out = cv2.VideoWriter('encoded.avi',fourcc, 20.0, (320,240))\n",
    "\n",
    "cap = cv2.VideoCapture('car.avi')\n",
    "\n"
   ]
  },
  {
   "cell_type": "code",
   "execution_count": 20,
   "metadata": {},
   "outputs": [],
   "source": [
    "encode(out, cap, \"original/original\")"
   ]
  },
  {
   "cell_type": "markdown",
   "metadata": {},
   "source": [
    "# зсуваємо кожен піксель на flow порахований методом farneback"
   ]
  },
  {
   "cell_type": "code",
   "execution_count": 24,
   "metadata": {},
   "outputs": [],
   "source": [
    "def apply_flow1(img, flow):\n",
    "    tmp = img\n",
    "    for i in range(img.shape[0]):\n",
    "        for j in range(img.shape[1]):\n",
    "            for k in range(img.shape[2]):\n",
    "                try:\n",
    "                    tmp[int(i+flow[i,j,0]),int(j+flow[i,j,1]), k] = img[i,j,k]\n",
    "                except: pass\n",
    "                '''\n",
    "                Exception as e:\n",
    "                    print(i,j,k)\n",
    "                    print(img[i,j,k])\n",
    "                    print(flow[i,j,0], flow[i,j,1])\n",
    "                    '''\n",
    "    return tmp"
   ]
  },
  {
   "cell_type": "markdown",
   "metadata": {},
   "source": [
    "# декодер бере 2 збережених кадра та відновлює, той що був між ними"
   ]
  },
  {
   "cell_type": "code",
   "execution_count": 25,
   "metadata": {},
   "outputs": [],
   "source": [
    "def decode1(out, cap, path):\n",
    "    t1 = time.time()\n",
    "    ret, prev = cap.read()\n",
    "    prevgray = cv2.cvtColor(prev, cv2.COLOR_BGR2GRAY)\n",
    "    out.write(prev)\n",
    "    i = 0\n",
    "    while (True):\n",
    "        ret, img = cap.read()\n",
    "        if (ret == 0): break\n",
    "        gray = cv2.cvtColor(img, cv2.COLOR_BGR2GRAY)\n",
    "        flow = cv2.calcOpticalFlowFarneback(prevgray, gray, None, 0.5, 3, 15, 3, 5, 1.2, 0)\n",
    "        prevgray = gray\n",
    "\n",
    "        pred = apply_flow1(prev, flow)\n",
    "\n",
    "        cv2.imshow('pred', pred)\n",
    "        prev = img\n",
    "        out.write(pred)\n",
    "        cv2.imwrite(path + f\"{i}.png\", pred)\n",
    "        i += 1\n",
    "        out.write(img)\n",
    "\n",
    "        ch = 0xFF & cv2.waitKey(5)\n",
    "        if ch == 27:\n",
    "            break\n",
    "    t2 = time.time()\n",
    "\n",
    "    cap.release()\n",
    "    out.release()     \n",
    "    cv2.destroyAllWindows()     \n",
    "    return (t2 - t1)/ i"
   ]
  },
  {
   "cell_type": "code",
   "execution_count": 23,
   "metadata": {},
   "outputs": [],
   "source": [
    "#import numpy as np\n",
    "fourcc = cv2.VideoWriter_fourcc(*'XVID')\n",
    "out = cv2.VideoWriter('decoded1.avi',fourcc, 20.0, (320,240))\n",
    "\n",
    "cap = cv2.VideoCapture('encoded.avi')\n",
    "time1 = decode1(out, cap, \"decoded1/decoded\")"
   ]
  },
  {
   "cell_type": "code",
   "execution_count": 15,
   "metadata": {},
   "outputs": [
    {
     "name": "stdout",
     "output_type": "stream",
     "text": [
      "1.0161097010179443\n"
     ]
    }
   ],
   "source": [
    "print(time1)"
   ]
  },
  {
   "cell_type": "markdown",
   "metadata": {},
   "source": [
    "# обраховуємо візуальну різницю між оригіналом та відновленим кадром"
   ]
  },
  {
   "cell_type": "code",
   "execution_count": 26,
   "metadata": {},
   "outputs": [],
   "source": [
    "def difference(path1, path2, path3):\n",
    "    q = 0\n",
    "    scores = []\n",
    "    while True:\n",
    "        if (q == 784): break\n",
    "        before = cv2.imread(path1 + f\"{q}.png\", cv2.IMREAD_COLOR)\n",
    "        after = cv2.imread(path2 + f\"{q}.png\", cv2.IMREAD_COLOR)\n",
    "\n",
    "        # Convert images to grayscale\n",
    "        before_gray = cv2.cvtColor(before, cv2.COLOR_BGR2GRAY)\n",
    "        after_gray = cv2.cvtColor(after, cv2.COLOR_BGR2GRAY)\n",
    "\n",
    "        # Compute SSIM between two images\n",
    "        (score, diff) = compare_ssim(before_gray, after_gray, full=True)\n",
    "        #print(\"Image similarity\", score)\n",
    "        scores.append(score)\n",
    "\n",
    "        # The diff image contains the actual image differences between the two images\n",
    "        # and is represented as a floating point data type in the range [0,1] \n",
    "        # so we must convert the array to 8-bit unsigned integers in the range\n",
    "        # [0,255] before we can use it with OpenCV\n",
    "        diff = (diff * 255).astype(\"uint8\")\n",
    "\n",
    "    # Threshold the difference image, followed by finding contours to\n",
    "    # obtain the regions of the two input images that differ\n",
    "        thresh = cv2.threshold(diff, 0, 255, cv2.THRESH_BINARY_INV | cv2.THRESH_OTSU)[1]\n",
    "        contours = cv2.findContours(thresh.copy(), cv2.RETR_EXTERNAL, cv2.CHAIN_APPROX_SIMPLE)\n",
    "        contours = contours[0] if len(contours) == 2 else contours[1]\n",
    "\n",
    "        filled_after = after.copy()\n",
    "\n",
    "        for c in contours:\n",
    "            area = cv2.contourArea(c)\n",
    "            if area > 40:\n",
    "                x,y,w,h = cv2.boundingRect(c)\n",
    "                cv2.rectangle(after, (x, y), (x + w, y + h), (36,255,12), 2)\n",
    "                cv2.drawContours(filled_after, [c], 0, (0,150,0), -1)\n",
    "\n",
    "        for i in range(before.shape[0]):\n",
    "            for j in range(before.shape[1]):\n",
    "                for k in range(before.shape[2]):\n",
    "                    filled_after[i,j,k] = (int(filled_after[i,j,k]) + int(after[i,j,k])) / 2\n",
    "\n",
    "\n",
    "        cv2.imwrite(path3 + f\"{q}.png\", filled_after)\n",
    "        q += 1\n",
    "    scores = np.array(scores)\n",
    "    return np.mean(scores)"
   ]
  },
  {
   "cell_type": "code",
   "execution_count": 27,
   "metadata": {},
   "outputs": [
    {
     "name": "stderr",
     "output_type": "stream",
     "text": [
      "<ipython-input-26-ecf515911434>:14: UserWarning: DEPRECATED: skimage.measure.compare_ssim has been moved to skimage.metrics.structural_similarity. It will be removed from skimage.measure in version 0.18.\n",
      "  (score, diff) = compare_ssim(before_gray, after_gray, full=True)\n"
     ]
    }
   ],
   "source": [
    "score1 = difference(\"original/original\", \"decoded1/decoded\", \"differ1/differ\")"
   ]
  },
  {
   "cell_type": "code",
   "execution_count": 28,
   "metadata": {},
   "outputs": [
    {
     "name": "stdout",
     "output_type": "stream",
     "text": [
      "0.6789816860917643\n"
     ]
    }
   ],
   "source": [
    "print(score1)"
   ]
  },
  {
   "cell_type": "markdown",
   "metadata": {},
   "source": [
    "# другий метод на основі Lucas-Kanade"
   ]
  },
  {
   "cell_type": "code",
   "execution_count": 29,
   "metadata": {},
   "outputs": [],
   "source": [
    "def apply_flow2(img, p0, p1):\n",
    "\ttmp = img\n",
    "\tq0 = np.array(p0)\n",
    "\tq1 = np.array(p1)\n",
    "\te = 2*(q1 - q0)\n",
    "\tfor i in range(e.shape[0]):\n",
    "\n",
    "\t\ttry:\n",
    "\n",
    "\t\t\tfor q in range(int(q0[i,0,0]) - 5, int(q0[i,0,0]) +5):\n",
    "\n",
    "\t\t\t\tfor p in range(int(q0[i,0,1]) - 5, int(q0[i,0,1]) +5):\n",
    "\n",
    "\t\t\t\t\tfor k in range(3):\n",
    "\n",
    "\t\t\t\t\t\ttmp[q + int(e[i,0,0]), p + int(e[i,0,1]),k] = img[q, p,k]\n",
    "\t\texcept: pass\n",
    "\t#except: print('##')\n",
    "\treturn tmp"
   ]
  },
  {
   "cell_type": "code",
   "execution_count": 37,
   "metadata": {},
   "outputs": [],
   "source": [
    "def decode2(out, cap, path):\n",
    "    t1 = time.time()\n",
    "    feature_params = dict( maxCorners = 500,\n",
    "                                                 qualityLevel = 0.2,\n",
    "                                                 minDistance = 10,\n",
    "                                                 blockSize = 20)\n",
    "    # Parameters for lucas kanade optical flow\n",
    "    lk_params = dict( winSize  = (15,15),\n",
    "                                        maxLevel = 2,\n",
    "                                        criteria = (cv2.TERM_CRITERIA_EPS | cv2.TERM_CRITERIA_COUNT, 10, 0.03))\n",
    "    # Create some random colors\n",
    "    color = np.random.randint(0,255,(100,3))\n",
    "    # Take first frame and find corners in it\n",
    "    ret, prev = cap.read()\n",
    "    old_gray = cv2.cvtColor(prev, cv2.COLOR_BGR2GRAY)\n",
    "    p0 = cv2.goodFeaturesToTrack(old_gray, mask = None, **feature_params)\n",
    "    # Create a mask image for drawing purposes\n",
    "    #mask = np.zeros_like(old_frame)\n",
    "    i = 0\n",
    "    while(1):\n",
    "            ret,frame = cap.read()\n",
    "            if ret == 0: break\n",
    "            frame_gray = cv2.cvtColor(frame, cv2.COLOR_BGR2GRAY)\n",
    "            #try:\n",
    "            # calculate optical flow\n",
    "            p1, st, err = cv2.calcOpticalFlowPyrLK(old_gray, frame_gray, p0, None, **lk_params)\n",
    "            # Select good points\n",
    "\n",
    "            pred = apply_flow2(prev, p0, p1)\n",
    "            prev =  frame\n",
    "\n",
    "            out.write(pred)\n",
    "            out.write(prev)\n",
    "            cv2.imwrite(path + f\"{i}.png\", pred)\n",
    "\n",
    "            #cv.imshow('frame',img)\n",
    "            k = cv2.waitKey(30) & 0xff\n",
    "            if k == 27:\n",
    "                    break\n",
    "            # Now update the previous frame and previous points\n",
    "            old_gray = frame_gray.copy()\n",
    "            p0 = p1\n",
    "            '''\n",
    "            except: \n",
    "                out.write(frame)\n",
    "                cv.imwrite(f'decoded/decoded{i}.png', frame)\n",
    "                p0 = cv.goodFeaturesToTrack(frame_gray, mask = None, **feature_params)\n",
    "                old_gray = frame_gray.copy()\n",
    "                print('###')\n",
    "                '''\n",
    "            i += 1\n",
    "    t2 = time.time()\n",
    "\n",
    "    cap.release()\n",
    "    out.release()     \n",
    "    cv2.destroyAllWindows()     \n",
    "    return (t2 - t1)/ i"
   ]
  },
  {
   "cell_type": "code",
   "execution_count": 38,
   "metadata": {},
   "outputs": [],
   "source": [
    "#import numpy as np\n",
    "fourcc = cv2.VideoWriter_fourcc(*'XVID')\n",
    "out = cv2.VideoWriter('decoded2.avi',fourcc, 20.0, (320,240))\n",
    "\n",
    "cap = cv2.VideoCapture('encoded.avi')\n",
    "time2 = decode2(out, cap, \"decoded2/decoded\")"
   ]
  },
  {
   "cell_type": "code",
   "execution_count": 39,
   "metadata": {},
   "outputs": [
    {
     "name": "stdout",
     "output_type": "stream",
     "text": [
      "0.02160183233874185\n"
     ]
    }
   ],
   "source": [
    "print(time2)"
   ]
  },
  {
   "cell_type": "code",
   "execution_count": 40,
   "metadata": {},
   "outputs": [
    {
     "name": "stderr",
     "output_type": "stream",
     "text": [
      "<ipython-input-26-ecf515911434>:14: UserWarning: DEPRECATED: skimage.measure.compare_ssim has been moved to skimage.metrics.structural_similarity. It will be removed from skimage.measure in version 0.18.\n",
      "  (score, diff) = compare_ssim(before_gray, after_gray, full=True)\n"
     ]
    },
    {
     "name": "stdout",
     "output_type": "stream",
     "text": [
      "0.9717302168699871\n"
     ]
    }
   ],
   "source": [
    "score2 = difference(\"original/original\", \"decoded2/decoded\", \"differ2/differ\")\n",
    "print(score2)"
   ]
  },
  {
   "cell_type": "markdown",
   "metadata": {},
   "source": [
    "#  ми бачимо, що farneback працює довше за рахонук зміщення всіх пікселів зображення. але мінусом є те, що не завжди зміщення є правильно нормлваним і пікселі перескакують надто далеко. Lucas-Kanade навпаки не завжди дектектить ключові точки і врезультвті ми бачимо кадр майже ідентичний попередньому. В обох методах є потенціал для покращення, що звичайно ж приведе до більшої складності алгоритму"
   ]
  },
  {
   "cell_type": "code",
   "execution_count": null,
   "metadata": {},
   "outputs": [],
   "source": []
  }
 ],
 "metadata": {
  "kernelspec": {
   "display_name": "Python 3",
   "language": "python",
   "name": "python3"
  },
  "language_info": {
   "codemirror_mode": {
    "name": "ipython",
    "version": 3
   },
   "file_extension": ".py",
   "mimetype": "text/x-python",
   "name": "python",
   "nbconvert_exporter": "python",
   "pygments_lexer": "ipython3",
   "version": "3.8.3"
  }
 },
 "nbformat": 4,
 "nbformat_minor": 4
}
